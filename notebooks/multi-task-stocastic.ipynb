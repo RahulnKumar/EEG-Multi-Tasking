{
 "cells": [
  {
   "cell_type": "code",
   "execution_count": null,
   "metadata": {},
   "outputs": [],
   "source": [
    "import os\n",
    "os.chdir('../')\n",
    "print(os.getcwd())"
   ]
  },
  {
   "cell_type": "code",
   "execution_count": null,
   "metadata": {},
   "outputs": [],
   "source": [
    "import torch \n",
    "import torchvision\n",
    "import numpy as np\n",
    "import pandas as pd\n",
    "import torch.nn as nn\n",
    "import torch.nn.functional as F\n",
    "import torchvision.transforms as transforms"
   ]
  },
  {
   "cell_type": "code",
   "execution_count": null,
   "metadata": {},
   "outputs": [],
   "source": [
    "# Device configuration\n",
    "device = torch.device('cuda:1' if torch.cuda.is_available() else 'cpu')\n",
    "\n",
    "# Hyper parameters\n",
    "num_epochs = 2\n",
    "num_classes = 2\n",
    "batch_size = 1\n",
    "learning_rate = 0.00001"
   ]
  },
  {
   "cell_type": "code",
   "execution_count": null,
   "metadata": {},
   "outputs": [],
   "source": [
    "from src.dataset import multi_task_dataset"
   ]
  },
  {
   "cell_type": "code",
   "execution_count": null,
   "metadata": {},
   "outputs": [],
   "source": [
    "df = pd.read_csv('input/data.csv')"
   ]
  },
  {
   "cell_type": "code",
   "execution_count": null,
   "metadata": {},
   "outputs": [],
   "source": [
    "df = df.sample(frac=1).reset_index(drop=True)\n",
    "df.shape"
   ]
  },
  {
   "cell_type": "raw",
   "metadata": {},
   "source": [
    "df_train = df.head(2500).reset_index(drop = True)\n",
    "df_test = df.tail(980).reset_index(drop = True)\n",
    "df_train.shape, df_test.shape"
   ]
  },
  {
   "cell_type": "code",
   "execution_count": null,
   "metadata": {},
   "outputs": [],
   "source": [
    "df_train = df.loc[(df.Type=='train') & (df.Subject==4)].reset_index(drop = True)\n",
    "df_test = df.loc[(df.Type=='test') & (df.Subject==4)].reset_index(drop = True)\n",
    "df_train.shape, df_test.shape"
   ]
  },
  {
   "cell_type": "code",
   "execution_count": null,
   "metadata": {},
   "outputs": [],
   "source": [
    "train_dataset = multi_task_dataset(df_train)\n",
    "test_dataset = multi_task_dataset(df_test)"
   ]
  },
  {
   "cell_type": "code",
   "execution_count": null,
   "metadata": {},
   "outputs": [],
   "source": [
    "# Data loader\n",
    "train_loader = torch.utils.data.DataLoader(dataset=train_dataset,\n",
    "                                           batch_size=batch_size, \n",
    "                                           shuffle=True)\n",
    "\n",
    "test_loader = torch.utils.data.DataLoader(dataset=test_dataset,\n",
    "                                          batch_size=batch_size, \n",
    "                                          shuffle=True)"
   ]
  },
  {
   "cell_type": "code",
   "execution_count": null,
   "metadata": {},
   "outputs": [],
   "source": [
    "def conv_block(in_channels, out_channels):\n",
    "    '''Convolution Block of 3x3 kernels + batch norm + maxpool of 2x2'''\n",
    "\n",
    "    return nn.Sequential(\n",
    "        nn.Conv2d(in_channels, out_channels, 5, padding=2),\n",
    "        nn.BatchNorm2d(out_channels),\n",
    "        nn.ReLU(),\n",
    "        nn.MaxPool2d(kernel_size=2, stride=2)\n",
    "    )\n",
    "def set_grad(model, grad):\n",
    "    for param in model.parameters():\n",
    "#         print(param.shape)\n",
    "        param.requires_grad = grad"
   ]
  },
  {
   "cell_type": "code",
   "execution_count": null,
   "metadata": {},
   "outputs": [],
   "source": [
    "class multi_task_model(nn.Module):\n",
    "    def __init__(self):\n",
    "        super(multi_task_model, self).__init__()\n",
    "\n",
    "        self.conv1 = conv_block(1, 20)\n",
    "        self.conv2 = conv_block(20, 40)\n",
    "        self.conv3 = conv_block(40, 60)        \n",
    "        self.fc =  nn.Linear(9 * 4 * 60, 100 )    \n",
    "        \n",
    "        #heads\n",
    "        self.y1o = nn.Linear(100,2)\n",
    "        self.y2o = nn.Linear(100,2)\n",
    "        self.y3o = nn.Linear(100,2)\n",
    "        self.y4o = nn.Linear(100, 2)\n",
    "        self.y5o = nn.Linear(100, 2)\n",
    "        self.y6o = nn.Linear(100,2)\n",
    "        self.y7o = nn.Linear(100, 2)\n",
    "        self.y8o = nn.Linear(100, 2)\n",
    "        self.y9o = nn.Linear(100, 2)\n",
    "        \n",
    "    def freeze(self, subject):\n",
    "        set_grad(self.y1o, False)\n",
    "        set_grad(self.y2o, False)\n",
    "        set_grad(self.y3o, False)\n",
    "        set_grad(self.y4o, False)\n",
    "        set_grad(self.y5o, False)\n",
    "        set_grad(self.y6o, False)\n",
    "        set_grad(self.y7o, False)\n",
    "        set_grad(self.y8o, False)\n",
    "        set_grad(self.y9o, False)\n",
    "        \n",
    "        if subject==1:\n",
    "            set_grad(self.y1o, True)\n",
    "        if subject==2:\n",
    "            set_grad(self.y2o, True)\n",
    "        if subject==3:\n",
    "            set_grad(self.y3o, True)\n",
    "        if subject==4:\n",
    "            set_grad(self.y4o, True)\n",
    "        if subject==5:\n",
    "            set_grad(self.y5o, True)\n",
    "        if subject==6:\n",
    "            set_grad(self.y6o, True)\n",
    "        if subject==7:\n",
    "            set_grad(self.y7o, True)\n",
    "        if subject==8:\n",
    "            set_grad(self.y8o, True)\n",
    "        if subject==9:\n",
    "            set_grad(self.y9o, True)\n",
    "            \n",
    "\n",
    "    def forward(self, x): \n",
    "        x = self.conv1(x)\n",
    "        x = self.conv2(x)\n",
    "        x = self.conv3(x)\n",
    "#         print('head shape ',x.shape)\n",
    "        x = x.reshape(x.size(0), -1)\n",
    "        x1 = self.fc(x)\n",
    "        \n",
    "        # heads\n",
    "        out1 = self.y1o(x1)\n",
    "        out2 = self.y2o(x1)\n",
    "        out3 = self.y3o(x1)\n",
    "        out4 = self.y4o(x1)\n",
    "        out5 = self.y5o(x1)\n",
    "        out6 = self.y6o(x1)\n",
    "        out7 = self.y7o(x1)\n",
    "        out8 = self.y8o(x1)\n",
    "        out9 = self.y9o(x1)\n",
    "                \n",
    "        #y5o = torch.sigmoid(self.y5o(x1)) #should be sigmoid\n",
    "#         print('Losses = ',y4o, '\\n')\n",
    "        return out1, out2, out3, out4, out5, out6, out7, out8, out9"
   ]
  },
  {
   "cell_type": "code",
   "execution_count": null,
   "metadata": {},
   "outputs": [],
   "source": [
    "model = multi_task_model()\n",
    "model = model.to(device)\n"
   ]
  },
  {
   "cell_type": "code",
   "execution_count": null,
   "metadata": {},
   "outputs": [],
   "source": [
    "# Loss and optimizer\n",
    "criterion = nn.CrossEntropyLoss()\n",
    "optimizer = torch.optim.Adam(model.parameters(), lr=learning_rate)"
   ]
  },
  {
   "cell_type": "code",
   "execution_count": null,
   "metadata": {
    "tags": []
   },
   "outputs": [],
   "source": [
    "# Train the model\n",
    "total_step = len(train_loader)\n",
    "for epoch in range(num_epochs):\n",
    "    for i, (images, labels, subjects) in enumerate(train_loader):\n",
    "        images = images.to(device)\n",
    "        labels = labels.to(device)\n",
    "        subjects = subjects.to(device)\n",
    "        outputs = model(images)\n",
    "        loss = criterion(outputs[subjects-1], labels)\n",
    "         \n",
    "#         model.freeze(subjects)\n",
    "#         model.to(device)\n",
    "        # Backward and optimize\n",
    "        optimizer.zero_grad()\n",
    "        loss.backward()\n",
    "        optimizer.step()\n",
    "        \n",
    "        if (i+1) % 2000 == 0:\n",
    "            print ('Epoch [{}/{}], Step [{}/{}], Loss: {:.4f}' \n",
    "                   .format(epoch+1, num_epochs, i+1, total_step, loss.item()))"
   ]
  },
  {
   "cell_type": "code",
   "execution_count": null,
   "metadata": {},
   "outputs": [],
   "source": [
    "# Test the model\n",
    "model.eval()  # eval mode (batchnorm uses moving mean/variance instead of mini-batch mean/variance)\n",
    "with torch.no_grad():\n",
    "    correct = 0\n",
    "    total = 0\n",
    "    for image, label, subject in test_loader:\n",
    "        image = image.to(device)\n",
    "        label = label.to(device)\n",
    "        outputs = model(image)\n",
    "        _, predicted = torch.max(outputs[subject-1].data, 1)\n",
    "#         print('predicted and label = ', predicted.item(), label.item())     \n",
    "        \n",
    "        total += label.size(0)\n",
    "        correct += (predicted == label).sum().item()\n",
    "#         print(predicted, label.item())\n",
    "# print(total, correct)\n",
    "print('Test Accuracy : {} %'.format(100 * correct / total))\n",
    "\n",
    "# Test the model\n",
    "model.eval()  # eval mode (batchnorm uses moving mean/variance instead of mini-batch mean/variance)\n",
    "with torch.no_grad():\n",
    "    correct = 0\n",
    "    total = 0\n",
    "    for image, label, subject in train_loader:\n",
    "        image = image.to(device)\n",
    "        label = label.to(device)\n",
    "        outputs = model(image)\n",
    "        _, predicted = torch.max(outputs[subject-1].data, 1)\n",
    "#         print('predicted and label = ', predicted.item(), label.item())     \n",
    "        \n",
    "        total += label.size(0)\n",
    "        correct += (predicted == label).sum().item()\n",
    "#         print(predicted, label.item())\n",
    "# print(total, correct)\n",
    "print('Train Accuracy : {} %'.format(100 * correct / total))"
   ]
  },
  {
   "cell_type": "code",
   "execution_count": null,
   "metadata": {},
   "outputs": [],
   "source": []
  },
  {
   "cell_type": "raw",
   "metadata": {},
   "source": [
    "75.97222222222223 %"
   ]
  },
  {
   "cell_type": "code",
   "execution_count": null,
   "metadata": {},
   "outputs": [],
   "source": []
  },
  {
   "cell_type": "code",
   "execution_count": null,
   "metadata": {},
   "outputs": [],
   "source": []
  },
  {
   "cell_type": "code",
   "execution_count": null,
   "metadata": {},
   "outputs": [],
   "source": []
  },
  {
   "cell_type": "code",
   "execution_count": null,
   "metadata": {},
   "outputs": [],
   "source": []
  },
  {
   "cell_type": "code",
   "execution_count": null,
   "metadata": {},
   "outputs": [],
   "source": []
  },
  {
   "cell_type": "code",
   "execution_count": null,
   "metadata": {},
   "outputs": [],
   "source": []
  },
  {
   "cell_type": "code",
   "execution_count": null,
   "metadata": {},
   "outputs": [],
   "source": []
  },
  {
   "cell_type": "code",
   "execution_count": null,
   "metadata": {},
   "outputs": [],
   "source": []
  },
  {
   "cell_type": "code",
   "execution_count": null,
   "metadata": {},
   "outputs": [],
   "source": []
  },
  {
   "cell_type": "code",
   "execution_count": null,
   "metadata": {},
   "outputs": [],
   "source": []
  }
 ],
 "metadata": {
  "kernelspec": {
   "display_name": "Python 3",
   "language": "python",
   "name": "python3"
  },
  "language_info": {
   "codemirror_mode": {
    "name": "ipython",
    "version": 3
   },
   "file_extension": ".py",
   "mimetype": "text/x-python",
   "name": "python",
   "nbconvert_exporter": "python",
   "pygments_lexer": "ipython3",
   "version": "3.8.5"
  }
 },
 "nbformat": 4,
 "nbformat_minor": 4
}
