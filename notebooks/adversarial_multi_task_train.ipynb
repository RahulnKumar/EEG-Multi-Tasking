{
 "cells": [
  {
   "cell_type": "code",
   "execution_count": null,
   "metadata": {},
   "outputs": [],
   "source": [
    "import os\n",
    "os.chdir('../')\n",
    "print(os.getcwd())"
   ]
  },
  {
   "cell_type": "code",
   "execution_count": null,
   "metadata": {},
   "outputs": [],
   "source": [
    "import torch \n",
    "import torchvision\n",
    "import numpy as np\n",
    "import pandas as pd\n",
    "import torch.nn as nn\n",
    "import torch.nn.functional as F\n",
    "import torchvision.transforms as transforms"
   ]
  },
  {
   "cell_type": "code",
   "execution_count": null,
   "metadata": {},
   "outputs": [],
   "source": [
    "# Device configuration\n",
    "device = torch.device('cuda:1' if torch.cuda.is_available() else 'cpu')\n",
    "\n",
    "# Hyper parameters\n",
    "num_epochs = 5\n",
    "num_classes = 2\n",
    "batch_size = 1\n",
    "learning_rate = 0.0001"
   ]
  },
  {
   "cell_type": "code",
   "execution_count": null,
   "metadata": {},
   "outputs": [],
   "source": [
    "from src.dataset import single_task_dataset\n",
    "from src.dataset import multi_task_dataset"
   ]
  },
  {
   "cell_type": "code",
   "execution_count": null,
   "metadata": {},
   "outputs": [],
   "source": [
    "df = pd.read_csv('input/data.csv')"
   ]
  },
  {
   "cell_type": "code",
   "execution_count": null,
   "metadata": {},
   "outputs": [],
   "source": [
    "df = df.sample(frac=1).reset_index(drop=True)\n",
    "df.shape"
   ]
  },
  {
   "cell_type": "code",
   "execution_count": null,
   "metadata": {},
   "outputs": [],
   "source": [
    "df_train = df.head(2500).reset_index(drop = True)\n",
    "df_test = df.tail(980).reset_index(drop = True)\n",
    "df_train.shape, df_test.shape"
   ]
  },
  {
   "cell_type": "raw",
   "metadata": {},
   "source": [
    "df_train = df.loc[(df.Type=='train') & (df.Subject!=14)].reset_index(drop = True)\n",
    "df_test = df.loc[(df.Type=='test' )& (df.Subject!=14)].reset_index(drop = True)\n",
    "df_train.shape, df_test.shape"
   ]
  },
  {
   "cell_type": "code",
   "execution_count": null,
   "metadata": {},
   "outputs": [],
   "source": [
    "train_dataset = single_task_dataset(df_train)\n",
    "test_dataset = single_task_dataset(df_test)"
   ]
  },
  {
   "cell_type": "code",
   "execution_count": null,
   "metadata": {},
   "outputs": [],
   "source": [
    "train_dataset = multi_task_dataset(df_train)\n",
    "test_dataset = multi_task_dataset(df_test)"
   ]
  },
  {
   "cell_type": "code",
   "execution_count": null,
   "metadata": {},
   "outputs": [],
   "source": [
    "# Data loader\n",
    "train_loader = torch.utils.data.DataLoader(dataset=train_dataset,\n",
    "                                           batch_size=batch_size, \n",
    "                                           shuffle=True)\n",
    "\n",
    "test_loader = torch.utils.data.DataLoader(dataset=test_dataset,\n",
    "                                          batch_size=batch_size, \n",
    "                                          shuffle=False)"
   ]
  },
  {
   "cell_type": "code",
   "execution_count": null,
   "metadata": {},
   "outputs": [],
   "source": [
    "def conv_block(in_channels, out_channels):\n",
    "    '''Convolution Block of 3x3 kernels + batch norm + maxpool of 2x2'''\n",
    "\n",
    "    return nn.Sequential(\n",
    "        nn.Conv2d(in_channels, out_channels, 5, padding=2),\n",
    "        nn.BatchNorm2d(out_channels),\n",
    "        nn.ReLU(),\n",
    "        nn.MaxPool2d(kernel_size=2, stride=2)\n",
    "    )\n",
    "    \n",
    "def set_grad(model, grad):\n",
    "    for param in model.parameters():\n",
    "#         print(param.shape)\n",
    "        param.requires_grad = grad"
   ]
  },
  {
   "cell_type": "code",
   "execution_count": null,
   "metadata": {},
   "outputs": [],
   "source": [
    "class TaskNet(nn.Module):\n",
    "    def __init__(self):\n",
    "        super(TaskNet, self).__init__()\n",
    "\n",
    "        self.conv1 = conv_block(1, 20)\n",
    "        self.conv2 = conv_block(20, 40)\n",
    "        self.conv3 = conv_block(40, 60)\n",
    "\n",
    "        self.head = nn.Linear(9 * 4 * 60, 10)\n",
    "\n",
    "    def forward(self, x):\n",
    "        x = self.conv1(x)\n",
    "        x = self.conv2(x)\n",
    "        x = self.conv3(x)\n",
    "\n",
    "        # Features of shape (batch_size, 64)\n",
    "        feat = x.reshape(x.size(0), -1)\n",
    "\n",
    "        # Output\n",
    "        out = self.head(feat)\n",
    "\n",
    "        return out"
   ]
  },
  {
   "cell_type": "code",
   "execution_count": null,
   "metadata": {},
   "outputs": [],
   "source": [
    "class ConvNet(nn.Module):\n",
    "    def __init__(self):\n",
    "        super(ConvNet, self).__init__()\n",
    "\n",
    "        self.conv1 = conv_block(1, 20)\n",
    "        self.conv2 = conv_block(20, 40)\n",
    "        self.conv3 = conv_block(40, 60)\n",
    "        self.fc = nn.Linear(9 * 4 * 60 * 2, 100)\n",
    "        \n",
    "        task_model = TaskNet().to(device)\n",
    "        try:\n",
    "            checkpoint = torch.load('models/adversarial_train/model.pth', map_location=torch.device('cuda:1' if torch.cuda.is_available() else 'cpu'))\n",
    "            task_model.load_state_dict(checkpoint['weights'])\n",
    "        except:\n",
    "            print(\"------------Create a brand new model from scrath -------------------------\")\n",
    "        self.conv11 = task_model.conv1\n",
    "        self.conv22 = task_model.conv2\n",
    "        self.conv33 = task_model.conv3\n",
    "    \n",
    "       #heads\n",
    "        self.y1o = nn.Linear(100,2)\n",
    "        self.y2o = nn.Linear(100,2)\n",
    "        self.y3o = nn.Linear(100,2)\n",
    "        self.y4o = nn.Linear(100, 2)\n",
    "        self.y5o = nn.Linear(100, 2)\n",
    "        self.y6o = nn.Linear(100,2)\n",
    "        self.y7o = nn.Linear(100, 2)\n",
    "        self.y8o = nn.Linear(100, 2)\n",
    "        self.y9o = nn.Linear(100, 2)\n",
    "        \n",
    "    def freeze(self, subject):\n",
    "        set_grad(self.y1o, False)\n",
    "        set_grad(self.y2o, False)\n",
    "        set_grad(self.y3o, False)\n",
    "        set_grad(self.y4o, False)\n",
    "        set_grad(self.y5o, False)\n",
    "        set_grad(self.y6o, False)\n",
    "        set_grad(self.y7o, False)\n",
    "        set_grad(self.y8o, False)\n",
    "        set_grad(self.y9o, False)\n",
    "        \n",
    "        if subject==1:\n",
    "            set_grad(self.y1o, True)\n",
    "        if subject==2:\n",
    "            set_grad(self.y2o, True)\n",
    "        if subject==3:\n",
    "            set_grad(self.y3o, True)\n",
    "        if subject==4:\n",
    "            set_grad(self.y4o, True)\n",
    "        if subject==5:\n",
    "            set_grad(self.y5o, True)\n",
    "        if subject==6:\n",
    "            set_grad(self.y6o, True)\n",
    "        if subject==7:\n",
    "            set_grad(self.y7o, True)\n",
    "        if subject==8:\n",
    "            set_grad(self.y8o, True)\n",
    "        if subject==9:\n",
    "            set_grad(self.y9o, True)\n",
    "        \n",
    "    \n",
    "\n",
    "    def forward(self, x):\n",
    "        \n",
    "        x1 = self.conv1(x)\n",
    "        x1 = self.conv2(x1)\n",
    "        x1 = self.conv3(x1)\n",
    "        \n",
    "        x2 = self.conv11(x)\n",
    "        x2 = self.conv22(x2)\n",
    "        x2 = self.conv33(x2)\n",
    "        \n",
    "        \n",
    "\n",
    "        # Features of shape (batch_size, 64)\n",
    "        feat1 = x1.reshape(x1.size(0), -1)\n",
    "        feat2 = x2.reshape(x2.size(0), -1)\n",
    "        feat  = torch.cat((feat1, feat2),1)\n",
    "        \n",
    "        head = self.fc(feat)\n",
    "  \n",
    "        # heads\n",
    "        out1 = self.y1o(head)\n",
    "        out2 = self.y2o(head)\n",
    "        out3 = self.y3o(head)\n",
    "        out4 = self.y4o(head)\n",
    "        out5 = self.y5o(head)\n",
    "        out6 = self.y6o(head)\n",
    "        out7 = self.y7o(head)\n",
    "        out8 = self.y8o(head)\n",
    "        out9 = self.y9o(head)\n",
    "                \n",
    "        #y5o = torch.sigmoid(self.y5o(x1)) #should be sigmoid\n",
    "#         print('Losses = ',y4o, '\\n')\n",
    "        return out1, out2, out3, out4, out5, out6, out7, out8, out9"
   ]
  },
  {
   "cell_type": "code",
   "execution_count": null,
   "metadata": {},
   "outputs": [],
   "source": [
    "# Train the model\n",
    "total_step = len(train_loader)\n",
    "for epoch in range(num_epochs):\n",
    "    \n",
    "    model1 = ConvNet().to(device)\n",
    "    model2 = TaskNet().to(device)\n",
    "    \n",
    "    # Loss and optimizer\n",
    "    criterion1 = nn.CrossEntropyLoss()\n",
    "    optimizer1 = torch.optim.Adam(model1.parameters(), lr=learning_rate)\n",
    "\n",
    "    criterion2 = nn.CrossEntropyLoss()\n",
    "    optimizer2 = torch.optim.Adam(model2.parameters(), lr=learning_rate)\n",
    "    \n",
    "    \n",
    "    \n",
    "    for i, (images, labels, subjects) in enumerate(train_loader):\n",
    "        images = images.to(device)\n",
    "        labels = labels.to(device)\n",
    "        subjects = subjects.to(device)\n",
    "        \n",
    "        # Forward pass 1\n",
    "        outputs1 = model1(images)\n",
    "        loss1 = criterion1(outputs1[subjects-1], labels)\n",
    "        model1.freeze(subjects)\n",
    "        model1.to(device)\n",
    "        \n",
    "        \n",
    "        \n",
    "        # Forward pass 2\n",
    "        outputs2 = model2(images)\n",
    "        loss2 = criterion2(outputs2, subjects)\n",
    "        \n",
    "        # Backward and optimize 1\n",
    "        optimizer1.zero_grad()\n",
    "        loss1.backward()\n",
    "        optimizer1.step()\n",
    "        \n",
    "        # Backward and optimize 2\n",
    "        optimizer2.zero_grad()\n",
    "        loss2.backward()\n",
    "        optimizer2.step()\n",
    "        \n",
    "        torch.save({'weights': model2.state_dict()},'models/adversarial_train/model.pth')\n",
    "        \n",
    "        if (i+1) % 1000 == 0:\n",
    "            print('Epoch [{}/{}], Step [{}/{}], Loss: {:.4f}' \n",
    "                   .format(epoch+1, num_epochs, i+1, total_step, loss1.item()))"
   ]
  },
  {
   "cell_type": "code",
   "execution_count": null,
   "metadata": {},
   "outputs": [],
   "source": [
    "# Test the model\n",
    "model1.eval()  # eval mode (batchnorm uses moving mean/variance instead of mini-batch mean/variance)\n",
    "with torch.no_grad():\n",
    "    correct = 0\n",
    "    total = 0\n",
    "    for images, labels, subjects in test_loader:\n",
    "        images = images.to(device)\n",
    "        labels = labels.to(device)\n",
    "        outputs = model1(images)\n",
    "        _, predicted = torch.max(outputs[subjects-1].data, 1)\n",
    "        total += labels.size(0)\n",
    "        correct += (predicted == labels).sum().item()\n",
    "\n",
    "print('Test Accuracy {} %'.format(100 * correct / total))\n",
    "\n",
    "# Test the model\n",
    "model1.eval()  # eval mode (batchnorm uses moving mean/variance instead of mini-batch mean/variance)\n",
    "with torch.no_grad():\n",
    "    correct = 0\n",
    "    total = 0\n",
    "    for images, labels, subjects in test_loader:\n",
    "        images = images.to(device)\n",
    "        labels = subjects.to(device)\n",
    "        outputs = model2(images)\n",
    "        _, predicted = torch.max(outputs.data, 1)\n",
    "        total += labels.size(0)\n",
    "        correct += (predicted == labels).sum().item()\n",
    "#         print(predicted.item(), labels.item())\n",
    "\n",
    "print('Train Accuracy : {} %'.format(100 * correct / total))"
   ]
  },
  {
   "cell_type": "code",
   "execution_count": null,
   "metadata": {},
   "outputs": [],
   "source": []
  },
  {
   "cell_type": "raw",
   "metadata": {},
   "source": [
    "76.38888888888889 % 78.19444444444444 %"
   ]
  }
 ],
 "metadata": {
  "kernelspec": {
   "display_name": "Python 3",
   "language": "python",
   "name": "python3"
  },
  "language_info": {
   "codemirror_mode": {
    "name": "ipython",
    "version": 2
   },
   "file_extension": ".py",
   "mimetype": "text/x-python",
   "name": "python",
   "nbconvert_exporter": "python",
   "pygments_lexer": "ipython2",
   "version": "2.7.17"
  }
 },
 "nbformat": 4,
 "nbformat_minor": 4
}
