{
 "cells": [
  {
   "cell_type": "code",
   "execution_count": 1,
   "metadata": {},
   "outputs": [
    {
     "name": "stdout",
     "output_type": "stream",
     "text": [
      "/DATA/rahul_1911mt11/multi-tasking/EEG-Multi-Tasking\n"
     ]
    }
   ],
   "source": [
    "import os\n",
    "os.chdir('../')\n",
    "print(os.getcwd())"
   ]
  },
  {
   "cell_type": "code",
   "execution_count": 2,
   "metadata": {},
   "outputs": [],
   "source": [
    "import torch \n",
    "import torchvision\n",
    "import numpy as np\n",
    "import pandas as pd\n",
    "import torch.nn as nn\n",
    "import torch.nn.functional as F\n",
    "import torchvision.transforms as transforms"
   ]
  },
  {
   "cell_type": "code",
   "execution_count": 15,
   "metadata": {},
   "outputs": [],
   "source": [
    "# Device configuration\n",
    "device = torch.device('cuda:1' if torch.cuda.is_available() else 'cpu')\n",
    "\n",
    "# Hyper parameters\n",
    "num_epochs = 1\n",
    "num_classes = 2\n",
    "batch_size = 1\n",
    "learning_rate = 0.00001"
   ]
  },
  {
   "cell_type": "code",
   "execution_count": 16,
   "metadata": {},
   "outputs": [],
   "source": [
    "from src.dataset import single_task_dataset\n",
    "from src.dataset import multi_task_dataset"
   ]
  },
  {
   "cell_type": "code",
   "execution_count": 17,
   "metadata": {},
   "outputs": [],
   "source": [
    "df = pd.read_csv('input/data.csv')"
   ]
  },
  {
   "cell_type": "code",
   "execution_count": 18,
   "metadata": {},
   "outputs": [
    {
     "data": {
      "text/plain": [
       "(3480, 5)"
      ]
     },
     "execution_count": 18,
     "metadata": {},
     "output_type": "execute_result"
    }
   ],
   "source": [
    "df = df.sample(frac=1).reset_index(drop=True)\n",
    "df.shape"
   ]
  },
  {
   "cell_type": "raw",
   "metadata": {},
   "source": [
    "df_train = df.head(2500).reset_index(drop = True)\n",
    "df_test = df.tail(980).reset_index(drop = True)\n",
    "df_train.shape, df_test.shape"
   ]
  },
  {
   "cell_type": "code",
   "execution_count": 19,
   "metadata": {},
   "outputs": [
    {
     "data": {
      "text/plain": [
       "((2760, 5), (720, 5))"
      ]
     },
     "execution_count": 19,
     "metadata": {},
     "output_type": "execute_result"
    }
   ],
   "source": [
    "df_train = df.loc[(df.Type=='train') & (df.Subject!=18)].reset_index(drop = True)\n",
    "df_test = df.loc[(df.Type=='test' )& (df.Subject!=18)].reset_index(drop = True)\n",
    "df_train.shape, df_test.shape"
   ]
  },
  {
   "cell_type": "code",
   "execution_count": 20,
   "metadata": {},
   "outputs": [],
   "source": [
    "train_dataset = single_task_dataset(df_train)\n",
    "test_dataset = single_task_dataset(df_test)"
   ]
  },
  {
   "cell_type": "code",
   "execution_count": 21,
   "metadata": {},
   "outputs": [],
   "source": [
    "train_dataset = multi_task_dataset(df_train)\n",
    "test_dataset = multi_task_dataset(df_test)"
   ]
  },
  {
   "cell_type": "code",
   "execution_count": 22,
   "metadata": {},
   "outputs": [],
   "source": [
    "# Data loader\n",
    "train_loader = torch.utils.data.DataLoader(dataset=train_dataset,\n",
    "                                           batch_size=batch_size, \n",
    "                                           shuffle=True)\n",
    "\n",
    "test_loader = torch.utils.data.DataLoader(dataset=test_dataset,\n",
    "                                          batch_size=batch_size, \n",
    "                                          shuffle=False)"
   ]
  },
  {
   "cell_type": "code",
   "execution_count": 23,
   "metadata": {},
   "outputs": [],
   "source": [
    "def conv_block(in_channels, out_channels):\n",
    "    '''Convolution Block of 3x3 kernels + batch norm + maxpool of 2x2'''\n",
    "\n",
    "    return nn.Sequential(\n",
    "        nn.Conv2d(in_channels, out_channels, 5, padding=2),\n",
    "        nn.BatchNorm2d(out_channels),\n",
    "        nn.ReLU(),\n",
    "        nn.MaxPool2d(kernel_size=2, stride=2)\n",
    "    )\n",
    "    \n"
   ]
  },
  {
   "cell_type": "code",
   "execution_count": 24,
   "metadata": {},
   "outputs": [],
   "source": [
    "class TaskNet(nn.Module):\n",
    "    def __init__(self):\n",
    "        super(TaskNet, self).__init__()\n",
    "\n",
    "        self.conv1 = conv_block(1, 20)\n",
    "        self.conv2 = conv_block(20, 40)\n",
    "        self.conv3 = conv_block(40, 60)\n",
    "\n",
    "        self.head = nn.Linear(9 * 4 * 60, 10)\n",
    "\n",
    "    def forward(self, x):\n",
    "        x = self.conv1(x)\n",
    "        x = self.conv2(x)\n",
    "        x = self.conv3(x)\n",
    "\n",
    "        # Features of shape (batch_size, 64)\n",
    "        feat = x.reshape(x.size(0), -1)\n",
    "\n",
    "        # Output\n",
    "        out = self.head(feat)\n",
    "\n",
    "        return out"
   ]
  },
  {
   "cell_type": "code",
   "execution_count": 25,
   "metadata": {},
   "outputs": [],
   "source": [
    "class ConvNet(nn.Module):\n",
    "    def __init__(self):\n",
    "        super(ConvNet, self).__init__()\n",
    "\n",
    "        self.conv1 = conv_block(1, 20)\n",
    "        self.conv2 = conv_block(20, 40)\n",
    "        self.conv3 = conv_block(40, 60)\n",
    "        self.head = nn.Linear(9 * 4 * 60 * 2, 2)\n",
    "        \n",
    "        task_model = TaskNet().to(device)\n",
    "        try:\n",
    "            checkpoint = torch.load('model.pth', map_location=torch.device('cuda:1' if torch.cuda.is_available() else 'cpu'))\n",
    "            task_model.load_state_dict(checkpoint['weights'])\n",
    "        except:\n",
    "            print(\"-------Creating task net from scratch -----------\")\n",
    "        self.conv11 = task_model.conv1\n",
    "        self.conv22 = task_model.conv2\n",
    "        self.conv33 = task_model.conv3\n",
    "\n",
    "\n",
    "    def forward(self, x):\n",
    "        \n",
    "        x1 = self.conv1(x)\n",
    "        x1 = self.conv2(x1)\n",
    "        x1 = self.conv3(x1)\n",
    "        \n",
    "        x2 = self.conv11(x)\n",
    "        x2 = self.conv22(x2)\n",
    "        x2 = self.conv33(x2)\n",
    "        \n",
    "        \n",
    "\n",
    "        # Features of shape (batch_size, 64)\n",
    "        feat1 = x1.reshape(x1.size(0), -1)\n",
    "        feat2 = x2.reshape(x2.size(0), -1)\n",
    "        feat  = torch.cat((feat1, feat2),1)\n",
    "  \n",
    "        # Output\n",
    "        out = self.head(feat)\n",
    "\n",
    "        return out"
   ]
  },
  {
   "cell_type": "code",
   "execution_count": 26,
   "metadata": {},
   "outputs": [
    {
     "name": "stdout",
     "output_type": "stream",
     "text": [
      "Epoch [1/1], Step [1000/2760], Loss: 0.5461\n",
      "Epoch [1/1], Step [2000/2760], Loss: 0.1045\n"
     ]
    }
   ],
   "source": [
    "# Train the model\n",
    "total_step = len(train_loader)\n",
    "for epoch in range(num_epochs):\n",
    "    \n",
    "    model1 = ConvNet().to(device)\n",
    "    model2 = TaskNet().to(device)\n",
    "    \n",
    "    # Loss and optimizer\n",
    "    criterion1 = nn.CrossEntropyLoss()\n",
    "    optimizer1 = torch.optim.Adam(model1.parameters(), lr=learning_rate)\n",
    "\n",
    "    criterion2 = nn.CrossEntropyLoss()\n",
    "    optimizer2 = torch.optim.Adam(model2.parameters(), lr=learning_rate)\n",
    "    \n",
    "    \n",
    "    \n",
    "    for i, (images, labels, subjects) in enumerate(train_loader):\n",
    "        images = images.to(device)\n",
    "        labels = labels.to(device)\n",
    "        subjects = subjects.to(device)\n",
    "        \n",
    "        # Forward pass 1\n",
    "        outputs1 = model1(images)\n",
    "        loss1 = criterion1(outputs1, labels)\n",
    "        \n",
    "        \n",
    "        \n",
    "        # Forward pass 2\n",
    "        outputs2 = model2(images)\n",
    "        loss2 = criterion2(outputs2, subjects)\n",
    "        \n",
    "        # Backward and optimize 1\n",
    "        optimizer1.zero_grad()\n",
    "        loss1.backward()\n",
    "        optimizer1.step()\n",
    "        \n",
    "        # Backward and optimize 2\n",
    "        optimizer2.zero_grad()\n",
    "        loss2.backward()\n",
    "        optimizer2.step()\n",
    "        \n",
    "        torch.save({'weights': model2.state_dict()},'model.pth')\n",
    "        \n",
    "        if (i+1) % 1000 == 0:\n",
    "            print('Epoch [{}/{}], Step [{}/{}], Loss: {:.4f}' \n",
    "                   .format(epoch+1, num_epochs, i+1, total_step, loss1.item()))"
   ]
  },
  {
   "cell_type": "code",
   "execution_count": 31,
   "metadata": {},
   "outputs": [
    {
     "name": "stdout",
     "output_type": "stream",
     "text": [
      "Test Accuracy: 75.0 %\n",
      "Train Accuracy: 71.52173913043478 %\n"
     ]
    }
   ],
   "source": [
    "# Test the model\n",
    "model1.eval()  # eval mode (batchnorm uses moving mean/variance instead of mini-batch mean/variance)\n",
    "with torch.no_grad():\n",
    "    correct = 0\n",
    "    total = 0\n",
    "    for images, labels, subjects in test_loader:\n",
    "        images = images.to(device)\n",
    "        labels = labels.to(device)\n",
    "        outputs = model1(images)\n",
    "        _, predicted = torch.max(outputs.data, 1)\n",
    "        total += labels.size(0)\n",
    "        correct += (predicted == labels).sum().item()\n",
    "\n",
    "print('Test Accuracy: {} %'.format(100 * correct / total))\n",
    "# Test the model\n",
    "model1.eval()  # eval mode (batchnorm uses moving mean/variance instead of mini-batch mean/variance)\n",
    "with torch.no_grad():\n",
    "    correct = 0\n",
    "    total = 0\n",
    "    for images, labels, subjects in train_loader:\n",
    "        images = images.to(device)\n",
    "        labels = labels.to(device)\n",
    "        outputs = model1(images)\n",
    "        _, predicted = torch.max(outputs.data, 1)\n",
    "        total += labels.size(0)\n",
    "        correct += (predicted == labels).sum().item()\n",
    "\n",
    "print('Train Accuracy: {} %'.format(100 * correct / total))"
   ]
  },
  {
   "cell_type": "code",
   "execution_count": 32,
   "metadata": {},
   "outputs": [
    {
     "name": "stdout",
     "output_type": "stream",
     "text": [
      "Test Accuracy : 47.083333333333336 %\n",
      "Train Accuracy: 57.46376811594203 %\n"
     ]
    }
   ],
   "source": [
    "# Test the model\n",
    "model2.eval()  # eval mode (batchnorm uses moving mean/variance instead of mini-batch mean/variance)\n",
    "with torch.no_grad():\n",
    "    correct = 0\n",
    "    total = 0\n",
    "    for images, labels, subjects in test_loader:\n",
    "        images = images.to(device)\n",
    "        labels = subjects.to(device)\n",
    "        outputs = model2(images)\n",
    "        _, predicted = torch.max(outputs.data, 1)\n",
    "        total += labels.size(0)\n",
    "        correct += (predicted == labels).sum().item()\n",
    "#         print(predicted.item(), labels.item())\n",
    "\n",
    "print('Test Accuracy : {} %'.format(100 * correct / total))\n",
    "\n",
    "# Test the model\n",
    "model2.eval()  # eval mode (batchnorm uses moving mean/variance instead of mini-batch mean/variance)\n",
    "with torch.no_grad():\n",
    "    correct = 0\n",
    "    total = 0\n",
    "    for images, labels, subjects in train_loader:\n",
    "        images = images.to(device)\n",
    "        labels = subjects.to(device)\n",
    "        outputs = model2(images)\n",
    "        _, predicted = torch.max(outputs.data, 1)\n",
    "        total += labels.size(0)\n",
    "        correct += (predicted == labels).sum().item()\n",
    "#         print(predicted.item(), labels.item())\n",
    "\n",
    "print('Train Accuracy: {} %'.format(100 * correct / total))"
   ]
  },
  {
   "cell_type": "code",
   "execution_count": null,
   "metadata": {},
   "outputs": [],
   "source": []
  },
  {
   "cell_type": "code",
   "execution_count": null,
   "metadata": {},
   "outputs": [],
   "source": []
  },
  {
   "cell_type": "code",
   "execution_count": null,
   "metadata": {},
   "outputs": [],
   "source": []
  },
  {
   "cell_type": "code",
   "execution_count": null,
   "metadata": {},
   "outputs": [],
   "source": []
  },
  {
   "cell_type": "code",
   "execution_count": null,
   "metadata": {},
   "outputs": [],
   "source": []
  }
 ],
 "metadata": {
  "kernelspec": {
   "display_name": "Python 3",
   "language": "python",
   "name": "python3"
  },
  "language_info": {
   "codemirror_mode": {
    "name": "ipython",
    "version": 3
   },
   "file_extension": ".py",
   "mimetype": "text/x-python",
   "name": "python",
   "nbconvert_exporter": "python",
   "pygments_lexer": "ipython3",
   "version": "3.8.5"
  }
 },
 "nbformat": 4,
 "nbformat_minor": 4
}
