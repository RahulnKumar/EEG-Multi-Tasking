{
 "cells": [
  {
   "cell_type": "code",
   "execution_count": null,
   "metadata": {},
   "outputs": [],
   "source": [
    "import os\n",
    "os.chdir('../')\n",
    "print(os.getcwd())"
   ]
  },
  {
   "cell_type": "code",
   "execution_count": 2,
   "metadata": {},
   "outputs": [],
   "source": [
    "import pandas as pd\n",
    "from PIL import Image\n",
    "import cv2\n",
    "import torch\n",
    "import numpy as np\n",
    "import matplotlib.pyplot as plt"
   ]
  },
  {
   "cell_type": "code",
   "execution_count": 3,
   "metadata": {},
   "outputs": [],
   "source": [
    "import torch \n",
    "import torch.nn as nn\n",
    "import torchvision\n",
    "import torchvision.transforms as transforms"
   ]
  },
  {
   "cell_type": "code",
   "execution_count": 4,
   "metadata": {},
   "outputs": [],
   "source": [
    "# Device configuration\n",
    "device = torch.device('cuda:0' if torch.cuda.is_available() else 'cpu')\n",
    "\n",
    "# Hyper parameters\n",
    "num_epochs = 10\n",
    "num_classes = 2\n",
    "batch_size = 2\n",
    "learning_rate = 0.0001"
   ]
  },
  {
   "cell_type": "code",
   "execution_count": 5,
   "metadata": {},
   "outputs": [],
   "source": [
    "from src.dataset import single_task_dataset"
   ]
  },
  {
   "cell_type": "code",
   "execution_count": 6,
   "metadata": {},
   "outputs": [],
   "source": [
    "df = pd.read_csv('input/data.csv')"
   ]
  },
  {
   "cell_type": "code",
   "execution_count": 7,
   "metadata": {},
   "outputs": [
    {
     "data": {
      "text/plain": [
       "((2760, 5), (720, 5))"
      ]
     },
     "execution_count": 7,
     "metadata": {},
     "output_type": "execute_result"
    }
   ],
   "source": [
    "df_train = df.loc[(df.Type=='train') & (df.Subject!=10)].reset_index(drop = True)\n",
    "df_test = df.loc[(df.Type=='test' )& (df.Subject!=10)].reset_index(drop = True)\n",
    "df_train.shape, df_test.shape"
   ]
  },
  {
   "cell_type": "code",
   "execution_count": 8,
   "metadata": {},
   "outputs": [],
   "source": [
    "train_dataset = single_task_dataset(df_train)\n",
    "test_dataset = single_task_dataset(df_test)"
   ]
  },
  {
   "cell_type": "code",
   "execution_count": 9,
   "metadata": {},
   "outputs": [],
   "source": [
    "# Data loader\n",
    "train_loader = torch.utils.data.DataLoader(dataset=train_dataset,\n",
    "                                           batch_size=batch_size, \n",
    "                                           shuffle=True)\n",
    "\n",
    "test_loader = torch.utils.data.DataLoader(dataset=test_dataset,\n",
    "                                          batch_size=batch_size, \n",
    "                                          shuffle=False)"
   ]
  },
  {
   "cell_type": "code",
   "execution_count": 10,
   "metadata": {},
   "outputs": [],
   "source": [
    "def conv_block(in_channels, out_channels):\n",
    "    '''Convolution Block of 3x3 kernels + batch norm + maxpool of 2x2'''\n",
    "\n",
    "    return nn.Sequential(\n",
    "        nn.Conv2d(in_channels, out_channels, 5, padding=2),\n",
    "        nn.BatchNorm2d(out_channels),\n",
    "        nn.ReLU(),\n",
    "        nn.MaxPool2d(kernel_size=2, stride=2)\n",
    "    )\n",
    "    \n",
    "class ConvNet(nn.Module):\n",
    "    def __init__(self):\n",
    "        super(ConvNet, self).__init__()\n",
    "\n",
    "        self.conv1 = conv_block(1, 20)\n",
    "        self.conv2 = conv_block(20, 40)\n",
    "        self.conv3 = conv_block(40, 60)\n",
    "\n",
    "        self.head = nn.Linear(9 * 4 * 60, 2)\n",
    "\n",
    "    def forward(self, x):\n",
    "        x = self.conv1(x)\n",
    "        x = self.conv2(x)\n",
    "        x = self.conv3(x)\n",
    "\n",
    "        # Features of shape (batch_size, 64)\n",
    "        feat = x.reshape(x.size(0), -1)\n",
    "\n",
    "        # Output\n",
    "        out = self.head(feat)\n",
    "\n",
    "        return out"
   ]
  },
  {
   "cell_type": "code",
   "execution_count": 11,
   "metadata": {},
   "outputs": [],
   "source": [
    "model = ConvNet().to(device)"
   ]
  },
  {
   "cell_type": "code",
   "execution_count": 12,
   "metadata": {},
   "outputs": [],
   "source": [
    "# Loss and optimizer\n",
    "criterion = nn.CrossEntropyLoss()\n",
    "optimizer = torch.optim.Adam(model.parameters(), lr=learning_rate)"
   ]
  },
  {
   "cell_type": "code",
   "execution_count": 13,
   "metadata": {
    "tags": []
   },
   "outputs": [
    {
     "name": "stdout",
     "output_type": "stream",
     "text": [
      "Epoch [1/10], Step [100/1380], Loss: 0.6316\n",
      "Epoch [1/10], Step [200/1380], Loss: 1.1057\n",
      "Epoch [1/10], Step [300/1380], Loss: 0.8966\n",
      "Epoch [1/10], Step [400/1380], Loss: 0.4544\n",
      "Epoch [1/10], Step [500/1380], Loss: 0.4107\n",
      "Epoch [1/10], Step [600/1380], Loss: 0.3748\n",
      "Epoch [1/10], Step [700/1380], Loss: 0.6129\n",
      "Epoch [1/10], Step [800/1380], Loss: 1.1362\n",
      "Epoch [1/10], Step [900/1380], Loss: 0.6692\n",
      "Epoch [1/10], Step [1000/1380], Loss: 1.0942\n",
      "Epoch [1/10], Step [1100/1380], Loss: 0.6401\n",
      "Epoch [1/10], Step [1200/1380], Loss: 0.8300\n",
      "Epoch [1/10], Step [1300/1380], Loss: 0.3906\n",
      "Epoch [2/10], Step [100/1380], Loss: 0.6169\n",
      "Epoch [2/10], Step [200/1380], Loss: 0.7066\n",
      "Epoch [2/10], Step [300/1380], Loss: 0.6753\n",
      "Epoch [2/10], Step [400/1380], Loss: 1.2899\n",
      "Epoch [2/10], Step [500/1380], Loss: 0.3424\n",
      "Epoch [2/10], Step [600/1380], Loss: 0.8945\n",
      "Epoch [2/10], Step [700/1380], Loss: 1.3350\n",
      "Epoch [2/10], Step [800/1380], Loss: 0.1776\n",
      "Epoch [2/10], Step [900/1380], Loss: 0.6430\n",
      "Epoch [2/10], Step [1000/1380], Loss: 0.7930\n",
      "Epoch [2/10], Step [1100/1380], Loss: 2.3030\n",
      "Epoch [2/10], Step [1200/1380], Loss: 0.0510\n",
      "Epoch [2/10], Step [1300/1380], Loss: 1.0376\n",
      "Epoch [3/10], Step [100/1380], Loss: 0.1452\n",
      "Epoch [3/10], Step [200/1380], Loss: 0.2526\n",
      "Epoch [3/10], Step [300/1380], Loss: 0.5874\n",
      "Epoch [3/10], Step [400/1380], Loss: 0.4341\n",
      "Epoch [3/10], Step [500/1380], Loss: 1.4097\n",
      "Epoch [3/10], Step [600/1380], Loss: 0.5329\n",
      "Epoch [3/10], Step [700/1380], Loss: 0.3355\n",
      "Epoch [3/10], Step [800/1380], Loss: 0.3987\n",
      "Epoch [3/10], Step [900/1380], Loss: 0.5660\n",
      "Epoch [3/10], Step [1000/1380], Loss: 0.4509\n",
      "Epoch [3/10], Step [1100/1380], Loss: 0.3161\n",
      "Epoch [3/10], Step [1200/1380], Loss: 0.4090\n",
      "Epoch [3/10], Step [1300/1380], Loss: 0.3933\n",
      "Epoch [4/10], Step [100/1380], Loss: 0.5212\n",
      "Epoch [4/10], Step [200/1380], Loss: 0.4878\n",
      "Epoch [4/10], Step [300/1380], Loss: 0.3506\n",
      "Epoch [4/10], Step [400/1380], Loss: 0.5291\n",
      "Epoch [4/10], Step [500/1380], Loss: 1.3849\n",
      "Epoch [4/10], Step [600/1380], Loss: 0.4940\n",
      "Epoch [4/10], Step [700/1380], Loss: 0.1233\n",
      "Epoch [4/10], Step [800/1380], Loss: 0.3109\n",
      "Epoch [4/10], Step [900/1380], Loss: 0.8286\n",
      "Epoch [4/10], Step [1000/1380], Loss: 0.1788\n",
      "Epoch [4/10], Step [1100/1380], Loss: 0.8280\n",
      "Epoch [4/10], Step [1200/1380], Loss: 0.5793\n",
      "Epoch [4/10], Step [1300/1380], Loss: 0.5560\n",
      "Epoch [5/10], Step [100/1380], Loss: 0.6088\n",
      "Epoch [5/10], Step [200/1380], Loss: 0.1199\n",
      "Epoch [5/10], Step [300/1380], Loss: 0.3319\n",
      "Epoch [5/10], Step [400/1380], Loss: 0.1529\n",
      "Epoch [5/10], Step [500/1380], Loss: 0.2290\n",
      "Epoch [5/10], Step [600/1380], Loss: 0.2734\n",
      "Epoch [5/10], Step [700/1380], Loss: 0.2151\n",
      "Epoch [5/10], Step [800/1380], Loss: 1.0450\n",
      "Epoch [5/10], Step [900/1380], Loss: 0.4081\n",
      "Epoch [5/10], Step [1000/1380], Loss: 0.1904\n",
      "Epoch [5/10], Step [1100/1380], Loss: 0.1558\n",
      "Epoch [5/10], Step [1200/1380], Loss: 0.1670\n",
      "Epoch [5/10], Step [1300/1380], Loss: 0.2605\n",
      "Epoch [6/10], Step [100/1380], Loss: 0.0616\n",
      "Epoch [6/10], Step [200/1380], Loss: 0.0468\n",
      "Epoch [6/10], Step [300/1380], Loss: 0.1694\n",
      "Epoch [6/10], Step [400/1380], Loss: 0.1399\n",
      "Epoch [6/10], Step [500/1380], Loss: 0.0469\n",
      "Epoch [6/10], Step [600/1380], Loss: 0.0142\n",
      "Epoch [6/10], Step [700/1380], Loss: 0.2260\n",
      "Epoch [6/10], Step [800/1380], Loss: 0.5326\n",
      "Epoch [6/10], Step [900/1380], Loss: 0.0433\n",
      "Epoch [6/10], Step [1000/1380], Loss: 0.2483\n",
      "Epoch [6/10], Step [1100/1380], Loss: 0.0640\n",
      "Epoch [6/10], Step [1200/1380], Loss: 0.1562\n",
      "Epoch [6/10], Step [1300/1380], Loss: 0.2041\n",
      "Epoch [7/10], Step [100/1380], Loss: 0.0227\n",
      "Epoch [7/10], Step [200/1380], Loss: 0.1723\n",
      "Epoch [7/10], Step [300/1380], Loss: 0.2094\n",
      "Epoch [7/10], Step [400/1380], Loss: 0.0766\n",
      "Epoch [7/10], Step [500/1380], Loss: 0.1000\n",
      "Epoch [7/10], Step [600/1380], Loss: 0.0588\n",
      "Epoch [7/10], Step [700/1380], Loss: 0.1215\n",
      "Epoch [7/10], Step [800/1380], Loss: 0.0522\n",
      "Epoch [7/10], Step [900/1380], Loss: 0.0480\n",
      "Epoch [7/10], Step [1000/1380], Loss: 0.1166\n",
      "Epoch [7/10], Step [1100/1380], Loss: 0.1647\n",
      "Epoch [7/10], Step [1200/1380], Loss: 0.1330\n",
      "Epoch [7/10], Step [1300/1380], Loss: 0.0687\n",
      "Epoch [8/10], Step [100/1380], Loss: 0.0560\n",
      "Epoch [8/10], Step [200/1380], Loss: 0.1078\n",
      "Epoch [8/10], Step [300/1380], Loss: 0.0438\n",
      "Epoch [8/10], Step [400/1380], Loss: 0.0213\n",
      "Epoch [8/10], Step [500/1380], Loss: 0.1524\n",
      "Epoch [8/10], Step [600/1380], Loss: 0.0304\n",
      "Epoch [8/10], Step [700/1380], Loss: 0.0240\n",
      "Epoch [8/10], Step [800/1380], Loss: 0.0542\n",
      "Epoch [8/10], Step [900/1380], Loss: 0.0100\n",
      "Epoch [8/10], Step [1000/1380], Loss: 0.1542\n",
      "Epoch [8/10], Step [1100/1380], Loss: 0.0209\n",
      "Epoch [8/10], Step [1200/1380], Loss: 0.3623\n",
      "Epoch [8/10], Step [1300/1380], Loss: 0.1115\n",
      "Epoch [9/10], Step [100/1380], Loss: 0.0068\n",
      "Epoch [9/10], Step [200/1380], Loss: 0.0119\n",
      "Epoch [9/10], Step [300/1380], Loss: 0.0023\n",
      "Epoch [9/10], Step [400/1380], Loss: 0.0242\n",
      "Epoch [9/10], Step [500/1380], Loss: 0.0263\n",
      "Epoch [9/10], Step [600/1380], Loss: 0.0456\n",
      "Epoch [9/10], Step [700/1380], Loss: 0.0113\n",
      "Epoch [9/10], Step [800/1380], Loss: 0.0164\n",
      "Epoch [9/10], Step [900/1380], Loss: 0.2468\n",
      "Epoch [9/10], Step [1000/1380], Loss: 0.0398\n",
      "Epoch [9/10], Step [1100/1380], Loss: 0.0936\n",
      "Epoch [9/10], Step [1200/1380], Loss: 0.0490\n",
      "Epoch [9/10], Step [1300/1380], Loss: 0.0033\n",
      "Epoch [10/10], Step [100/1380], Loss: 0.0214\n",
      "Epoch [10/10], Step [200/1380], Loss: 0.0058\n",
      "Epoch [10/10], Step [300/1380], Loss: 0.0254\n",
      "Epoch [10/10], Step [400/1380], Loss: 0.0147\n",
      "Epoch [10/10], Step [500/1380], Loss: 0.0073\n",
      "Epoch [10/10], Step [600/1380], Loss: 0.0252\n",
      "Epoch [10/10], Step [700/1380], Loss: 0.0065\n",
      "Epoch [10/10], Step [800/1380], Loss: 0.0142\n",
      "Epoch [10/10], Step [900/1380], Loss: 0.0044\n",
      "Epoch [10/10], Step [1000/1380], Loss: 0.1114\n",
      "Epoch [10/10], Step [1100/1380], Loss: 0.0131\n",
      "Epoch [10/10], Step [1200/1380], Loss: 0.0480\n",
      "Epoch [10/10], Step [1300/1380], Loss: 0.0223\n"
     ]
    }
   ],
   "source": [
    "# Train the model\n",
    "total_step = len(train_loader)\n",
    "for epoch in range(num_epochs):\n",
    "    for i, (images, labels) in enumerate(train_loader):\n",
    "        images = images.to(device)\n",
    "        labels = labels.to(device)\n",
    "        \n",
    "        # Forward pass\n",
    "        outputs = model(images)\n",
    "        # print('shapes = ', outputs.shape, labels.shape)\n",
    "        # print(outputs, labels)\n",
    "        loss = criterion(outputs, labels)\n",
    "        \n",
    "        # Backward and optimize\n",
    "        optimizer.zero_grad()\n",
    "        loss.backward()\n",
    "        optimizer.step()\n",
    "        \n",
    "        if (i+1) % 100 == 0:\n",
    "            print ('Epoch [{}/{}], Step [{}/{}], Loss: {:.4f}' \n",
    "                   .format(epoch+1, num_epochs, i+1, total_step, loss.item()))"
   ]
  },
  {
   "cell_type": "code",
   "execution_count": 14,
   "metadata": {},
   "outputs": [
    {
     "name": "stdout",
     "output_type": "stream",
     "text": [
      "Test Accuracy of the model on the test images: 72.08333333333333 %\n"
     ]
    }
   ],
   "source": [
    "# Test the model\n",
    "model.eval()  # eval mode (batchnorm uses moving mean/variance instead of mini-batch mean/variance)\n",
    "with torch.no_grad():\n",
    "    correct = 0\n",
    "    total = 0\n",
    "    for images, labels in test_loader:\n",
    "        images = images.to(device)\n",
    "        labels = labels.to(device)\n",
    "        outputs = model(images)\n",
    "        _, predicted = torch.max(outputs.data, 1)\n",
    "        total += labels.size(0)\n",
    "        correct += (predicted == labels).sum().item()\n",
    "\n",
    "print('Test Accuracy of the model on the test images: {} %'.format(100 * correct / total))"
   ]
  },
  {
   "cell_type": "code",
   "execution_count": null,
   "metadata": {},
   "outputs": [],
   "source": []
  }
 ],
 "metadata": {
  "kernelspec": {
   "display_name": "Python 3",
   "language": "python",
   "name": "python3"
  },
  "language_info": {
   "codemirror_mode": {
    "name": "ipython",
    "version": 3
   },
   "file_extension": ".py",
   "mimetype": "text/x-python",
   "name": "python",
   "nbconvert_exporter": "python",
   "pygments_lexer": "ipython3",
   "version": "3.8.5"
  }
 },
 "nbformat": 4,
 "nbformat_minor": 4
}
