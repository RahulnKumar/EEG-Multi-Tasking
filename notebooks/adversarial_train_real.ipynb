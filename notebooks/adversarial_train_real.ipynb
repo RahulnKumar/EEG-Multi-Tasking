{
 "cells": [
  {
   "cell_type": "code",
   "execution_count": 1,
   "metadata": {},
   "outputs": [
    {
     "name": "stdout",
     "output_type": "stream",
     "text": [
      "/DATA/rahul_1911mt11/multi-tasking/EEG-Multi-Tasking\n"
     ]
    }
   ],
   "source": [
    "import os\n",
    "os.chdir('../')\n",
    "print(os.getcwd())"
   ]
  },
  {
   "cell_type": "code",
   "execution_count": 2,
   "metadata": {},
   "outputs": [],
   "source": [
    "import torch \n",
    "import random\n",
    "import traceback\n",
    "import torchvision\n",
    "import numpy as np\n",
    "import pandas as pd\n",
    "import torch.nn as nn\n",
    "import torch.nn.functional as F\n",
    "import torchvision.transforms as transforms"
   ]
  },
  {
   "cell_type": "code",
   "execution_count": 3,
   "metadata": {},
   "outputs": [],
   "source": [
    "gpu = 'cuda:3'"
   ]
  },
  {
   "cell_type": "code",
   "execution_count": 4,
   "metadata": {},
   "outputs": [],
   "source": [
    "# Device configuration\n",
    "device = torch.device(gpu if torch.cuda.is_available() else 'cpu')\n",
    "\n",
    "# Hyper parameters\n",
    "episodes = 100\n",
    "num_epochs = 1\n",
    "num_classes = 2\n",
    "batch_size = 25\n",
    "lr1 = 0.0000001\n",
    "lr2 = 0.000001"
   ]
  },
  {
   "cell_type": "code",
   "execution_count": 5,
   "metadata": {},
   "outputs": [
    {
     "ename": "SyntaxError",
     "evalue": "invalid syntax (dataset.py, line 26)",
     "output_type": "error",
     "traceback": [
      "\u001b[0;36m  File \u001b[0;32m\"src/dataset.py\"\u001b[0;36m, line \u001b[0;32m26\u001b[0m\n\u001b[0;31m    path = f\"input/{path}\"\u001b[0m\n\u001b[0m                         ^\u001b[0m\n\u001b[0;31mSyntaxError\u001b[0m\u001b[0;31m:\u001b[0m invalid syntax\n"
     ]
    }
   ],
   "source": [
    "from src.dataset import single_task_dataset\n",
    "from src.dataset import multi_task_dataset"
   ]
  },
  {
   "cell_type": "code",
   "execution_count": null,
   "metadata": {},
   "outputs": [],
   "source": [
    "df = pd.read_csv('input/data.csv')"
   ]
  },
  {
   "cell_type": "code",
   "execution_count": null,
   "metadata": {},
   "outputs": [],
   "source": [
    "df = df.sample(frac=1).reset_index(drop=True)\n",
    "df.shape"
   ]
  },
  {
   "cell_type": "raw",
   "metadata": {},
   "source": [
    "df_train = df.head(2500).reset_index(drop = True)\n",
    "df_test = df.tail(980).reset_index(drop = True)\n",
    "df_train.shape, df_test.shape"
   ]
  },
  {
   "cell_type": "code",
   "execution_count": null,
   "metadata": {},
   "outputs": [],
   "source": []
  },
  {
   "cell_type": "code",
   "execution_count": null,
   "metadata": {},
   "outputs": [],
   "source": [
    "def conv_block(in_channels, out_channels):\n",
    "    '''Convolution Block of 3x3 kernels + batch norm + maxpool of 2x2'''\n",
    "\n",
    "    return nn.Sequential(\n",
    "        nn.Conv2d(in_channels, out_channels, 5, padding=2),\n",
    "        nn.BatchNorm2d(out_channels),\n",
    "        nn.ReLU(),\n",
    "        nn.MaxPool2d(kernel_size=2, stride=2)\n",
    "    )"
   ]
  },
  {
   "cell_type": "code",
   "execution_count": null,
   "metadata": {},
   "outputs": [],
   "source": [
    "class TaskNet(nn.Module):\n",
    "    def __init__(self):\n",
    "        super(TaskNet, self).__init__()\n",
    "\n",
    "        self.conv1 = conv_block(1, 20)\n",
    "        self.conv2 = conv_block(20, 40)\n",
    "        self.conv3 = conv_block(40, 60)\n",
    "\n",
    "        self.head = nn.Linear(9 * 4 * 60, 10)\n",
    "\n",
    "    def forward(self, x):\n",
    "        x = self.conv1(x)\n",
    "        x = self.conv2(x)\n",
    "        x = self.conv3(x)\n",
    "\n",
    "        # Features of shape (batch_size, 64)\n",
    "        feat = x.reshape(x.size(0), -1)\n",
    "\n",
    "        # Output\n",
    "        out = self.head(feat)\n",
    "\n",
    "        return out"
   ]
  },
  {
   "cell_type": "code",
   "execution_count": null,
   "metadata": {},
   "outputs": [],
   "source": [
    "class ConvNet(nn.Module):\n",
    "    def __init__(self):\n",
    "        super(ConvNet, self).__init__()\n",
    "\n",
    "#         self.conv1 = conv_block(1, 20)\n",
    "#         self.conv2 = conv_block(20, 40)\n",
    "#         self.conv3 = conv_block(40, 60)\n",
    "        self.head1 = nn.Linear(9 * 4 * 60 , 100)\n",
    "        self.head2 = nn.Linear(100, 50)\n",
    "        self.head3 = nn.Linear(50, 20)\n",
    "        self.head4 = nn.Linear(20, 2)\n",
    "        \n",
    "        task_model = TaskNet().to(device)\n",
    "        try:\n",
    "            checkpoint = torch.load('models/adversarial_train_real/tasknet.pth', map_location=torch.device(gpu if torch.cuda.is_available() else 'cpu'))\n",
    "            task_model.load_state_dict(checkpoint['weights'])\n",
    "#             print(\"--------- Successfully loaded previous model weights --------------------\")\n",
    "        except:\n",
    "            print('got error in ConvNet class')\n",
    "#             traceback.print_exc()\n",
    "            print(\"-------Creating task net from scratch -----------\")\n",
    "        self.conv11 = task_model.conv1\n",
    "        self.conv22 = task_model.conv2\n",
    "        self.conv33 = task_model.conv3\n",
    "\n",
    "\n",
    "    def forward(self, x):\n",
    "        \n",
    "#         x1 = self.conv1(x)\n",
    "#         x1 = self.conv2(x1)\n",
    "#         x1 = self.conv3(x1)\n",
    "        \n",
    "        x2 = self.conv11(x)\n",
    "        x2 = self.conv22(x2)\n",
    "        x2 = self.conv33(x2)\n",
    "        \n",
    "        \n",
    "\n",
    "        # Features of shape (batch_size, 64)\n",
    "#         feat1 = x1.reshape(x1.size(0), -1)\n",
    "        feat2 = x2.reshape(x2.size(0), -1)\n",
    "#         feat  = torch.cat((feat1, feat2),1)\n",
    "  \n",
    "        # Output\n",
    "        out = self.head1(feat2)\n",
    "        out = F.relu(out)\n",
    "        out = self.head2(out)\n",
    "        out = F.relu(out)\n",
    "        out = self.head3(out)\n",
    "        out = F.relu(out)\n",
    "        out = self.head4(out)\n",
    "\n",
    "        return out"
   ]
  },
  {
   "cell_type": "code",
   "execution_count": null,
   "metadata": {},
   "outputs": [],
   "source": [
    "# Train the model\n",
    "\n",
    "for episode in range(episodes):\n",
    "    \n",
    "    n = random.randint(1,9)\n",
    "\n",
    "    df_train = df.loc[(df.Type=='train') & (df.Subject!= 10)].reset_index(drop = True)\n",
    "    train_dataset = single_task_dataset(df_train)\n",
    "    train_dataset = multi_task_dataset(df_train)\n",
    "    train_loader = torch.utils.data.DataLoader(dataset=train_dataset,\n",
    "                                               batch_size=batch_size, \n",
    "                                               shuffle=True)\n",
    "    \n",
    "    model1 = ConvNet().to(device)\n",
    "    try:\n",
    "        checkpoint = torch.load('models/adversarial_train_real/convnet.pth', map_location=torch.device(gpu if torch.cuda.is_available() else 'cpu'))\n",
    "        model1.load_state_dict(checkpoint['weights'])\n",
    "        print(\"--------- Successfully loaded previous model weights --------------------\")\n",
    "    except:\n",
    "        print(\"error while loading convnet weights\")\n",
    "        traceback.print_exc()\n",
    "        print(\"-------Creating convnet from scratch -----------\")\n",
    "    \n",
    "    model2 = TaskNet().to(device)\n",
    "    try:\n",
    "        checkpoint = torch.load('models/adversarial_train_real/tasknet.pth', map_location=torch.device(gpu if torch.cuda.is_available() else 'cpu'))\n",
    "        model2.load_state_dict(checkpoint['weights'])\n",
    "        print(\"--------- Successfully loaded previous model weights --------------------\")\n",
    "    except:\n",
    "        print(\"error while loading tasknet weights\")\n",
    "        traceback.print_exc()\n",
    "        print(\"-------Creating task net from scratch -----------\")\n",
    "        \n",
    "\n",
    "    # Loss and optimizer\n",
    "    criterion1 = nn.CrossEntropyLoss()\n",
    "    optimizer1 = torch.optim.Adam(model1.parameters(), lr=lr1)\n",
    "\n",
    "    criterion2 = nn.CrossEntropyLoss()\n",
    "    optimizer2 = torch.optim.Adam(model2.parameters(), lr=lr2)\n",
    "    \n",
    "\n",
    "\n",
    "    total_step = len(train_loader)\n",
    "    for epoch in range(num_epochs):\n",
    "\n",
    "\n",
    "        for i, (images, labels, subjects) in enumerate(train_loader):\n",
    "            images = images.to(device)\n",
    "            labels = labels.to(device)\n",
    "            subjects = subjects.to(device)\n",
    "\n",
    "            # Forward pass 1\n",
    "            outputs1 = model1(images)\n",
    "            loss1 = criterion1(outputs1, labels)\n",
    "#             import pdb;\n",
    "#             pdb.set_trace()\n",
    "\n",
    "\n",
    "\n",
    "            # Forward pass 2\n",
    "            outputs2 = model2(images)\n",
    "            loss2 = criterion2(outputs2, subjects)\n",
    "\n",
    "            # Backward and optimize 1\n",
    "            optimizer1.zero_grad()\n",
    "            (loss1).backward()\n",
    "            optimizer1.step()\n",
    "\n",
    "            # Backward and optimize 2\n",
    "            optimizer2.zero_grad()\n",
    "            (loss2 + loss1.item()).backward()\n",
    "            optimizer2.step()\n",
    "\n",
    "            torch.save({'weights': model2.state_dict()},'models/adversarial_train_real/tasknet.pth')\n",
    "            torch.save({'weights': model1.state_dict()},'models/adversarial_train_real/convnet.pth')\n",
    "\n",
    "            if (i+1) % 10000 == 0:\n",
    "                print('Epoch [{}/{}], Step [{}/{}], Loss: {:.4f}' \n",
    "                       .format(epoch+1, num_epochs, i+1, total_step, loss1.item()))\n",
    "    print(f\"-------------  EPISODE : {episode}  ------------\")\n",
    "    print(\"------------------------------------------------\")\n",
    "    train_accuracy_model1()\n",
    "    test_accuracy_model1()\n",
    "    train_accuracy_model2()\n",
    "    test_accuracy_model2()\n",
    "    print(\"------------------------------------------------\", '\\n')"
   ]
  },
  {
   "cell_type": "code",
   "execution_count": null,
   "metadata": {},
   "outputs": [],
   "source": [
    "# Test the model\n",
    "\n",
    "def test_accuracy_model1():\n",
    "    \n",
    "    df_test = df.loc[(df.Type=='test') & (df.Subject!=10)].reset_index(drop = True)\n",
    "    test_dataset = multi_task_dataset(df_test)\n",
    "    test_loader = torch.utils.data.DataLoader(dataset=test_dataset,\n",
    "                                               batch_size=1, \n",
    "                                               shuffle=True)\n",
    "    \n",
    "    model1 = ConvNet().to(device)\n",
    "    try:\n",
    "        checkpoint = torch.load('models/adversarial_train_real/convnet.pth', map_location=torch.device(gpu if torch.cuda.is_available() else 'cpu'))\n",
    "        model1.load_state_dict(checkpoint['weights'])\n",
    "    #         print(\"--------- Successfully loaded previous model weights --------------------\")\n",
    "    except:\n",
    "        print(\"-------Creating convnet from scratch -----------\")\n",
    "    \n",
    "\n",
    "    model1.eval()  # eval mode (batchnorm uses moving mean/variance instead of mini-batch mean/variance)\n",
    "    with torch.no_grad():\n",
    "        correct = 0\n",
    "        total = 0\n",
    "        for images, labels, subjects in test_loader:\n",
    "            images = images.to(device)\n",
    "            labels = labels.to(device)\n",
    "            outputs = model1(images)\n",
    "            _, predicted = torch.max(outputs.data, 1)\n",
    "            total += labels.size(0)\n",
    "            correct += (predicted == labels).sum().item()\n",
    "\n",
    "    print('Test Accuracy: {} %'.format(100 * correct / total))\n",
    "\n",
    "\n",
    "# Test the model\n",
    "\n",
    "def train_accuracy_model1():\n",
    "    \n",
    "    df_train = df.loc[(df.Type=='train') & (df.Subject!=10)].reset_index(drop = True)\n",
    "    train_dataset = multi_task_dataset(df_train)\n",
    "    train_loader = torch.utils.data.DataLoader(dataset=train_dataset,\n",
    "                                               batch_size=1, \n",
    "                                               shuffle=True)\n",
    "    \n",
    "    model1 = ConvNet().to(device)\n",
    "    try:\n",
    "        checkpoint = torch.load('models/adversarial_train_real/convnet.pth', map_location=torch.device(gpu if torch.cuda.is_available() else 'cpu'))\n",
    "        model1.load_state_dict(checkpoint['weights'])\n",
    "    #         print(\"--------- Successfully loaded previous model weights --------------------\")\n",
    "    except:\n",
    "        print(\"-------Creating convnet from scratch -----------\")\n",
    "\n",
    "    model1.eval()  # eval mode (batchnorm uses moving mean/variance instead of mini-batch mean/variance)\n",
    "    with torch.no_grad():\n",
    "        correct = 0\n",
    "        total = 0\n",
    "        for images, labels, subjects in train_loader:\n",
    "            images = images.to(device)\n",
    "            labels = labels.to(device)\n",
    "            outputs = model1(images)\n",
    "            _, predicted = torch.max(outputs.data, 1)\n",
    "            total += labels.size(0)\n",
    "            correct += (predicted == labels).sum().item()\n",
    "\n",
    "    print('Train Accuracy: {} %'.format(100 * correct / total))"
   ]
  },
  {
   "cell_type": "code",
   "execution_count": null,
   "metadata": {},
   "outputs": [],
   "source": [
    "# Test the model\n",
    "def test_accuracy_model2():\n",
    "    \n",
    "    df_test = df.loc[(df.Type=='test') & (df.Subject!=10)].reset_index(drop = True)\n",
    "    test_dataset = multi_task_dataset(df_test)\n",
    "    test_loader = torch.utils.data.DataLoader(dataset=test_dataset,\n",
    "                                               batch_size=1, \n",
    "                                               shuffle=True)\n",
    "    \n",
    "    model2 = TaskNet().to(device)\n",
    "    try:\n",
    "        checkpoint = torch.load('models/adversarial_train_real/tasknet.pth', map_location=torch.device(gpu if torch.cuda.is_available() else 'cpu'))\n",
    "        model2.load_state_dict(checkpoint['weights'])\n",
    "    #         print(\"--------- Successfully loaded previous model weights --------------------\")\n",
    "    except:\n",
    "        print(\"-------Creating task net from scratch -----------\")\n",
    "    \n",
    "    \n",
    "    model2.eval()  # eval mode (batchnorm uses moving mean/variance instead of mini-batch mean/variance)\n",
    "    with torch.no_grad():\n",
    "        correct = 0\n",
    "        total = 0\n",
    "        for images, labels, subjects in test_loader:\n",
    "            images = images.to(device)\n",
    "            labels = subjects.to(device)\n",
    "            outputs = model2(images)\n",
    "            _, predicted = torch.max(outputs.data, 1)\n",
    "            total += labels.size(0)\n",
    "            correct += (predicted == labels).sum().item()\n",
    "#             print(predicted.item(), labels.item())\n",
    "\n",
    "    print('Test Accuracy for tasknet: {} %'.format(100 * correct / total))\n",
    "\n",
    "# Test the model\n",
    "def train_accuracy_model2():\n",
    "    \n",
    "    df_train = df.loc[(df.Type=='train') & (df.Subject!=10)].reset_index(drop = True)\n",
    "    train_dataset = multi_task_dataset(df_train)\n",
    "    train_loader = torch.utils.data.DataLoader(dataset=train_dataset,\n",
    "                                               batch_size=1, \n",
    "                                               shuffle=True)\n",
    "    \n",
    "    model2 = TaskNet().to(device)\n",
    "    try:\n",
    "        checkpoint = torch.load('models/adversarial_train_real/tasknet.pth', map_location=torch.device(gpu if torch.cuda.is_available() else 'cpu'))\n",
    "        model2.load_state_dict(checkpoint['weights'])\n",
    "    #         print(\"--------- Successfully loaded previous model weights --------------------\")\n",
    "    except:\n",
    "        traceback.print_exc()\n",
    "        print(\"-------Creating task net from scratch -----------\")\n",
    "    \n",
    "    \n",
    "    model2.eval()  # eval mode (batchnorm uses moving mean/variance instead of mini-batch mean/variance)\n",
    "    with torch.no_grad():\n",
    "        correct = 0\n",
    "        total = 0\n",
    "        for images, labels, subjects in train_loader:\n",
    "            images = images.to(device)\n",
    "            labels = subjects.to(device)\n",
    "            outputs = model2(images)\n",
    "            _, predicted = torch.max(outputs.data, 1)\n",
    "            total += labels.size(0)\n",
    "            correct += (predicted == labels).sum().item()\n",
    "#             print(predicted.item(), labels.item())\n",
    "\n",
    "    print('Train Accuracy for tasknet: {} %'.format(100 * correct / total))"
   ]
  },
  {
   "cell_type": "code",
   "execution_count": null,
   "metadata": {},
   "outputs": [],
   "source": []
  },
  {
   "cell_type": "code",
   "execution_count": null,
   "metadata": {},
   "outputs": [],
   "source": [
    "train_accuracy_model1()\n",
    "test_accuracy_model1()\n",
    "train_accuracy_model2()\n",
    "test_accuracy_model2()"
   ]
  },
  {
   "cell_type": "code",
   "execution_count": null,
   "metadata": {},
   "outputs": [],
   "source": []
  },
  {
   "cell_type": "code",
   "execution_count": null,
   "metadata": {},
   "outputs": [],
   "source": [
    "train_accuracy_model2()"
   ]
  },
  {
   "cell_type": "code",
   "execution_count": null,
   "metadata": {},
   "outputs": [],
   "source": [
    "test_accuracy_model2()"
   ]
  },
  {
   "cell_type": "code",
   "execution_count": null,
   "metadata": {},
   "outputs": [],
   "source": []
  },
  {
   "cell_type": "code",
   "execution_count": null,
   "metadata": {},
   "outputs": [],
   "source": []
  },
  {
   "cell_type": "code",
   "execution_count": 8,
   "metadata": {},
   "outputs": [],
   "source": [
    "from PIL import Image\n",
    "import cv2\n",
    "import torch\n",
    "import numpy as np\n",
    "from torch.utils.data import Dataset, DataLoader"
   ]
  },
  {
   "cell_type": "code",
   "execution_count": 12,
   "metadata": {},
   "outputs": [
    {
     "ename": "SyntaxError",
     "evalue": "invalid syntax (<ipython-input-12-4485113df4aa>, line 20)",
     "output_type": "error",
     "traceback": [
      "\u001b[0;36m  File \u001b[0;32m\"<ipython-input-12-4485113df4aa>\"\u001b[0;36m, line \u001b[0;32m20\u001b[0m\n\u001b[0;31m    testing = f'dfd'\u001b[0m\n\u001b[0m                   ^\u001b[0m\n\u001b[0;31mSyntaxError\u001b[0m\u001b[0;31m:\u001b[0m invalid syntax\n"
     ]
    }
   ],
   "source": [
    "class single_task_dataset(Dataset):\n",
    "    def __init__(self,df, transform=None):\n",
    "        \"\"\"\n",
    "        Args:\n",
    "            df (pandas dataframe): dataframe with path and labels of all EEG-images\n",
    "            transform (callable, optional): Optional transform to be applied\n",
    "                on a sample.\n",
    "        \"\"\"\n",
    "        self.df = df\n",
    "        self.transform = transform\n",
    "\n",
    "    def __len__(self):\n",
    "        return len(self.df)\n",
    "\n",
    "    def __getitem__(self,index):\n",
    "        # import pdb; pdb.set_trace()\n",
    "        label = self.df.Label.loc[index]\n",
    "        label = torch.tensor(label).long()\n",
    "        path = self.df.EEG_Path.iloc[index]\n",
    "        testing = f'dfd'\n",
    "        path = f\"input/{path}\"\n",
    "        # print('reading ', path)\n",
    "        image = cv2.imread(path, 0)\n",
    "        # print('reading successfully and size = ', image.shape)\n",
    "\n",
    "        try:\n",
    "            image = cv2.resize(image, (37, 75)) / 255\n",
    "        except:\n",
    "            pass\n",
    "        image = np.reshape(image, (75, 37, 1))\n",
    "       \n",
    "        if self.transform is not None:\n",
    "            image = self.transform(image)\n",
    "\n",
    "        image = np.transpose(image, (2,0,1)).astype(np.float32)\n",
    "\n",
    "        image = torch.tensor(image).float()\n",
    "\n",
    "        \n",
    "        #torch.from_numpy(np.array([int(img1_tuple[1]!=img0_tuple[1])],dtype=np.float32))\n",
    "        #print(list_of_labels)\n",
    "        return image, label"
   ]
  },
  {
   "cell_type": "code",
   "execution_count": 14,
   "metadata": {},
   "outputs": [
    {
     "ename": "SyntaxError",
     "evalue": "invalid syntax (<ipython-input-14-ea580dfbad66>, line 1)",
     "output_type": "error",
     "traceback": [
      "\u001b[0;36m  File \u001b[0;32m\"<ipython-input-14-ea580dfbad66>\"\u001b[0;36m, line \u001b[0;32m1\u001b[0m\n\u001b[0;31m    a = f'dfd'\u001b[0m\n\u001b[0m             ^\u001b[0m\n\u001b[0;31mSyntaxError\u001b[0m\u001b[0;31m:\u001b[0m invalid syntax\n"
     ]
    }
   ],
   "source": [
    "a = f'dfd'"
   ]
  },
  {
   "cell_type": "code",
   "execution_count": 15,
   "metadata": {},
   "outputs": [
    {
     "name": "stdout",
     "output_type": "stream",
     "text": [
      "/DATA/rahul_1911mt11/anaconda3/bin/python\n"
     ]
    }
   ],
   "source": [
    "!which python"
   ]
  },
  {
   "cell_type": "code",
   "execution_count": 16,
   "metadata": {},
   "outputs": [
    {
     "name": "stdout",
     "output_type": "stream",
     "text": [
      "Python 3.8.5\n"
     ]
    }
   ],
   "source": [
    "!python --version"
   ]
  },
  {
   "cell_type": "code",
   "execution_count": null,
   "metadata": {},
   "outputs": [],
   "source": []
  }
 ],
 "metadata": {
  "kernelspec": {
   "display_name": "Python 3",
   "language": "python",
   "name": "python3"
  },
  "language_info": {
   "codemirror_mode": {
    "name": "ipython",
    "version": 2
   },
   "file_extension": ".py",
   "mimetype": "text/x-python",
   "name": "python",
   "nbconvert_exporter": "python",
   "pygments_lexer": "ipython2",
   "version": "2.7.17"
  }
 },
 "nbformat": 4,
 "nbformat_minor": 4
}
